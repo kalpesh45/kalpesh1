{
 "cells": [
  {
   "cell_type": "code",
   "execution_count": null,
   "id": "2fd06bbb",
   "metadata": {},
   "outputs": [],
   "source": [
    "# 1 write a pyhon program to check if a nummber is positive,negative,or zero\n",
    "n=int(input('enter the number'))\n",
    "if n>0:\n",
    "    print('given number is postive')\n",
    "elif n<0:\n",
    "    print('given number is negative')\n",
    "else:\n",
    "    print('given number is zero')"
   ]
  },
  {
   "cell_type": "code",
   "execution_count": 3,
   "id": "3df21501",
   "metadata": {},
   "outputs": [
    {
     "name": "stdout",
     "output_type": "stream",
     "text": [
      "enter the number3\n",
      "the factorial of given number is = 6\n"
     ]
    }
   ],
   "source": [
    "# 2 write a python program to get factorial number of given number\n",
    "n=int(input('enter the number'))\n",
    "fact=1\n",
    "for i in range(1,n+1):\n",
    "    fact=fact*i\n",
    "print('the factorial of given number is','=',fact)"
   ]
  },
  {
   "cell_type": "code",
   "execution_count": 5,
   "id": "c62ee57a",
   "metadata": {},
   "outputs": [
    {
     "name": "stdout",
     "output_type": "stream",
     "text": [
      "enter the number3\n",
      "given number is odd\n"
     ]
    }
   ],
   "source": [
    "# 7 write a python program to find whether a given number is even or odd\n",
    "n=int(input('enter the number'))\n",
    "if n%2==0:\n",
    "    print('given number is even')\n",
    "else:\n",
    "    print('given number is odd')"
   ]
  },
  {
   "cell_type": "code",
   "execution_count": 9,
   "id": "b9dec791",
   "metadata": {},
   "outputs": [
    {
     "name": "stdout",
     "output_type": "stream",
     "text": [
      "enter the lettera\n",
      "its a vowel\n"
     ]
    }
   ],
   "source": [
    "# 8 write a python program to test whether a passed letter is a vowel or not\n",
    "n=input('enter the letter')\n",
    "if n=='a'or n=='e'or n=='u'or n=='i'or n=='o' or n=='A' or n=='E'or n=='U' or n=='O' or n=='I':\n",
    "    print('its a vowel')\n",
    "else:\n",
    "    print('its a not vowel')"
   ]
  },
  {
   "cell_type": "code",
   "execution_count": 3,
   "id": "073c001f",
   "metadata": {},
   "outputs": [
    {
     "name": "stdout",
     "output_type": "stream",
     "text": [
      "enter the first number12\n",
      "enter the second number23\n",
      "value before swapping 12\n",
      "value before swapping 23\n",
      "value after swapping 23\n",
      "value after wapping 12\n"
     ]
    }
   ],
   "source": [
    "# 6 write a  python program that swap two number with temp variable and without temp variable\n",
    "a=int(input('enter the first number'))\n",
    "b=int(input('enter the second number'))\n",
    "print('value before swapping',a)\n",
    "print('value before swapping',b)\n",
    "print('value after swapping',b)\n",
    "print('value after wapping',a)"
   ]
  },
  {
   "cell_type": "code",
   "execution_count": 16,
   "id": "e9e0d8d8",
   "metadata": {},
   "outputs": [
    {
     "name": "stdout",
     "output_type": "stream",
     "text": [
      "enter the first number12\n",
      "enter the second number23\n",
      "enter the third number12\n",
      "sum will be zero\n"
     ]
    }
   ],
   "source": [
    "# 9 write a python program to sum of three given integers however if two values are equal sum will be zero\n",
    "num1=int(input('enter the first number'))\n",
    "num2=int(input('enter the second number'))\n",
    "num3=int(input('enter the third number'))\n",
    "sum=num1+num2+num3\n",
    "if num1==num3 or num1==num2 or num2==num3:\n",
    "    print('sum will be zero')\n",
    "else:\n",
    "    print('sum','=',sum)"
   ]
  },
  {
   "cell_type": "code",
   "execution_count": 21,
   "id": "154a2e7f",
   "metadata": {},
   "outputs": [
    {
     "name": "stdout",
     "output_type": "stream",
     "text": [
      "enter the first number12\n",
      "enter the second number13\n",
      "sum = 25\n"
     ]
    }
   ],
   "source": [
    "# 10 write a python program that will return true if the two given integervalues are equal or their sum or difference is 5\n",
    "num1=int(input('enter the first number'))\n",
    "num2=int(input('enter the second number'))\n",
    "if num1==num2 or num1+num2==5:\n",
    "    print('true')\n",
    "else:\n",
    "    print('sum','=',num1+num2)"
   ]
  },
  {
   "cell_type": "code",
   "execution_count": 24,
   "id": "e7b26e78",
   "metadata": {},
   "outputs": [
    {
     "name": "stdout",
     "output_type": "stream",
     "text": [
      "enter the number5\n",
      "sum of given number is = 15\n"
     ]
    }
   ],
   "source": [
    "\n",
    "# 11 write a python program to sum of the first n positive integers\n",
    "n=int(input('enter the number'))\n",
    "sum1=0\n",
    "for i in range(n+1):# 0,#1,# up to n*\n",
    "    sum1=sum1+i\n",
    "print('sum of given number is','=',sum1)"
   ]
  },
  {
   "cell_type": "code",
   "execution_count": 25,
   "id": "6e0c877c",
   "metadata": {},
   "outputs": [
    {
     "name": "stdout",
     "output_type": "stream",
     "text": [
      "enter the stringfjkdddbhv\n",
      "length of given string is 9\n"
     ]
    }
   ],
   "source": [
    "# 12 write a python program to calculate the length of a string\n",
    "str1=input('enter the string')\n",
    "length=len(str1)\n",
    "print('length of given string is',length)"
   ]
  },
  {
   "cell_type": "code",
   "execution_count": 26,
   "id": "b6aef2e0",
   "metadata": {},
   "outputs": [
    {
     "name": "stdout",
     "output_type": "stream",
     "text": [
      "enter the number5\n",
      "0 1 1 2 3 5 "
     ]
    }
   ],
   "source": [
    "# 3 write a python program to get the fibonaccin series of given range\n",
    "n=int(input('enter the number'))\n",
    "x=0\n",
    "y=1\n",
    "z=0\n",
    "for i in range(n+1):\n",
    "    print(z,end=' ')\n",
    "    z=x+y\n",
    "    y=x\n",
    "    x=z"
   ]
  },
  {
   "cell_type": "code",
   "execution_count": 13,
   "id": "58c5ecba",
   "metadata": {},
   "outputs": [
    {
     "name": "stdout",
     "output_type": "stream",
     "text": [
      "enter the stringkaa\n",
      "number of charater in string {'k': 1, 'a': 2}\n"
     ]
    }
   ],
   "source": [
    "# 13 write a python program to count number of characters(character frequency) in a string\n",
    "str1=input('enter the string')\n",
    "count={}\n",
    "for i in str1:\n",
    "    if i in count:\n",
    "        count[i]+=1\n",
    "    else:\n",
    "        count[i]=1\n",
    "print('number of charater in string',count)"
   ]
  },
  {
   "cell_type": "code",
   "execution_count": 20,
   "id": "b3fe8e1a",
   "metadata": {},
   "outputs": [
    {
     "name": "stdout",
     "output_type": "stream",
     "text": [
      "my name is kalpesh ashok marathe\n",
      "1\n"
     ]
    }
   ],
   "source": [
    "# 15 write a python program to count occurrences of a substring in a string\n",
    "str1='my name is kalpesh ashok marathe'\n",
    "print(str1)\n",
    "substring=str1.count('kalpesh')\n",
    "print(substring)"
   ]
  },
  {
   "cell_type": "code",
   "execution_count": 24,
   "id": "c353905b",
   "metadata": {
    "collapsed": true
   },
   "outputs": [
    {
     "name": "stdout",
     "output_type": "stream",
     "text": [
      "enter the stringkjl\n",
      "k 1\n",
      "j 1\n",
      "l 1\n"
     ]
    }
   ],
   "source": [
    "# 16 write a python program to count the occurrences of each word in a given sentence\n",
    "str1=input('enter the string')\n",
    "str2=str1.split()\n",
    "i=0\n",
    "while i<len(str1):\n",
    "    count=0\n",
    "    for j in str1:\n",
    "        if str1[i]==j:\n",
    "            count=count+1\n",
    "    print(str1[i],count)\n",
    "    i=i+1"
   ]
  },
  {
   "cell_type": "code",
   "execution_count": 29,
   "id": "8aadf998",
   "metadata": {},
   "outputs": [
    {
     "name": "stdout",
     "output_type": "stream",
     "text": [
      "enter the  first stringabc\n",
      "enter the second stringxyz\n",
      "string before swapping abc\n",
      "string before swapping xyz\n",
      "after swapping string xyc\n",
      "after swapping string abz\n"
     ]
    }
   ],
   "source": [
    "# 17 write  a python program to get a single string from two given string separated bt a space and swap the first\n",
    "# two characters of each string\n",
    "a=input('enter the  first string')\n",
    "b=input('enter the second string')\n",
    "print('string before swapping',a)\n",
    "print('string before swapping',b)\n",
    "c=b[:2]+a[2:]\n",
    "d=a[:2]+b[2:]\n",
    "print('after swapping string',c)\n",
    "print('after swapping string',d)"
   ]
  },
  {
   "cell_type": "code",
   "execution_count": 32,
   "id": "10964533",
   "metadata": {},
   "outputs": [
    {
     "name": "stdout",
     "output_type": "stream",
     "text": [
      "enter the stringhgfd\n",
      "hgfding\n"
     ]
    }
   ],
   "source": [
    "# 18 write a python program to add 'ing' at the end of a given string(length should be at least 3 )\n",
    "# if  the given string already ends with 'ing' then add 'ly' instead if the length of the given\n",
    "# string is less than 3 leave it unchaged\n",
    "a=input('enter the string')\n",
    "b=len(a)\n",
    "if b>2:\n",
    "    if a[-3:]=='ing':\n",
    "        a+='ly'\n",
    "    else:\n",
    "        a+='ing'\n",
    "print(a)\n",
    "        "
   ]
  },
  {
   "cell_type": "code",
   "execution_count": 33,
   "id": "00be6a8a",
   "metadata": {},
   "outputs": [
    {
     "name": "stdout",
     "output_type": "stream",
     "text": [
      "enter the stringkalpesh is not bad bot but he is poor bot\n",
      "kalpesh is not bad bot but he is good bot\n"
     ]
    }
   ],
   "source": [
    "# 19 write a python program to find the first appearance of the substring 'not' and 'poor'\n",
    "# from agiven string if 'not' follows the 'poor' repalce the whole not..'poor'\n",
    "# substring with 'good'.return the resulting string\n",
    "str1=input('enter the string')\n",
    "a=str1.find('not')\n",
    "b=str1.find('poor')\n",
    "if b>a:\n",
    "    str1=str1.replace(str1[b:(b+4)],'good')\n",
    "    print(str1)\n",
    "else:\n",
    "    print(str1)"
   ]
  },
  {
   "cell_type": "code",
   "execution_count": 36,
   "id": "9d2e1715",
   "metadata": {},
   "outputs": [
    {
     "name": "stdout",
     "output_type": "stream",
     "text": [
      "/nLongest word Exercises\n",
      "length of the longest word 9\n"
     ]
    }
   ],
   "source": [
    "# 20 write a python function that takes a list of words and return the length of the longest one\n",
    "def find_longest_word(words_list):\n",
    "    word_len=[]\n",
    "    for n in words_list:\n",
    "        word_len.append((len(n),n))\n",
    "    word_len.sort()\n",
    "    return word_len[-1][0],word_len[-1][1]\n",
    "result=find_longest_word(['PHP','Exercises','Backend'])\n",
    "print('/nLongest word',result[1])\n",
    "print('length of the longest word',result[0])"
   ]
  },
  {
   "cell_type": "code",
   "execution_count": 38,
   "id": "409258a5",
   "metadata": {},
   "outputs": [
    {
     "name": "stdout",
     "output_type": "stream",
     "text": [
      "enter the stringasdf\n",
      "fdsa\n"
     ]
    }
   ],
   "source": [
    "# 21 write a python function to reverses a string if its length is multiple of 4\n",
    "a=input('enter the string')\n",
    "if len(a)%4==0:8l\n",
    "    print(''.join(reversed(a)))\n",
    "else:\n",
    "    print(a)"
   ]
  },
  {
   "cell_type": "code",
   "execution_count": null,
   "id": "2c667d17",
   "metadata": {},
   "outputs": [],
   "source": [
    "# 22 write a python program to get a string made of the first 2 and the last 2 chars from a given a string .if\n",
    "# the string length is less than 2 return instead of the empty string\n",
    "# sample string 'w3resource'\n",
    "# expected resut:'w3ce'\n",
    "# sample string:'w'\n",
    "# expected result:'w3w3'\n",
    "# sample string:'w'\n",
    "# expected string:'empty string'\n",
    "a=input('enter the sample string')\n",
    "if len(a)<2:\n",
    "    print(a)\n",
    "else:\n",
    "    group=a[:2]+a[-2:]\n",
    "print(group)"
   ]
  },
  {
   "cell_type": "code",
   "execution_count": null,
   "id": "c70edf58",
   "metadata": {},
   "outputs": [],
   "source": [
    "# 23 write a python program function to insert a string in the middle of string\n",
    "a=input('enter the string')\n",
    "d=input('enter the string')\n",
    "c=a[:2]+ d+a[2:]\n",
    "print(c)"
   ]
  },
  {
   "cell_type": "code",
   "execution_count": null,
   "id": "465ffa2f",
   "metadata": {},
   "outputs": [],
   "source": []
  }
 ],
 "metadata": {
  "kernelspec": {
   "display_name": "Python 3 (ipykernel)",
   "language": "python",
   "name": "python3"
  },
  "language_info": {
   "codemirror_mode": {
    "name": "ipython",
    "version": 3
   },
   "file_extension": ".py",
   "mimetype": "text/x-python",
   "name": "python",
   "nbconvert_exporter": "python",
   "pygments_lexer": "ipython3",
   "version": "3.9.12"
  }
 },
 "nbformat": 4,
 "nbformat_minor": 5
}
